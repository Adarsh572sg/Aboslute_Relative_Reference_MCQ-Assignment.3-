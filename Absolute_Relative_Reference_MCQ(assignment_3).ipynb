{
  "nbformat": 4,
  "nbformat_minor": 0,
  "metadata": {
    "colab": {
      "private_outputs": true,
      "provenance": []
    },
    "kernelspec": {
      "name": "python3",
      "display_name": "Python 3"
    },
    "language_info": {
      "name": "python"
    }
  },
  "cells": [
    {
      "cell_type": "markdown",
      "source": [
        "Question 1:\n",
        "Which of the following is an example of an absolute reference in Excel?"
      ],
      "metadata": {
        "id": "P-SX91nGDa5e"
      }
    },
    {
      "cell_type": "code",
      "source": [
        "# Answer: d, $A$1"
      ],
      "metadata": {
        "id": "7yqYhGNaEFuU"
      },
      "execution_count": null,
      "outputs": []
    },
    {
      "cell_type": "markdown",
      "source": [
        "Question 2:\n",
        "What happens when you use relative references (e.g., B2) in a formula and\n",
        "then copy the formula to another cell?"
      ],
      "metadata": {
        "id": "2NjSj9HqEbT1"
      }
    },
    {
      "cell_type": "code",
      "source": [
        "# Anwer: b,The reference changes based on the position of the formula"
      ],
      "metadata": {
        "id": "YDGo83fOEZ9v"
      },
      "execution_count": null,
      "outputs": []
    },
    {
      "cell_type": "markdown",
      "source": [
        "Question 3:\n",
        "Which of the following formulas uses a mixed reference where the row is\n",
        "absolute, but the column is relative?\n"
      ],
      "metadata": {
        "id": "bmtO55oxE3qW"
      }
    },
    {
      "cell_type": "code",
      "source": [
        "# Answer: a,$A1"
      ],
      "metadata": {
        "id": "StGrQ4AmE173"
      },
      "execution_count": null,
      "outputs": []
    },
    {
      "cell_type": "markdown",
      "source": [
        "Question 4:\n",
        "You have a tax rate in cell F1 (e.g., 10%). You are calculating the total price for\n",
        "a list of items. Which formula should you use in cell E2 to multiply the price in\n",
        "D2 by the tax rate in F1, while keeping the reference to the tax rate fixed?\n",
        "\n"
      ],
      "metadata": {
        "id": "I792IBBVFq7Q"
      }
    },
    {
      "cell_type": "code",
      "source": [
        "# Answer: d,=D2*$F$1"
      ],
      "metadata": {
        "id": "jL4ve--JFqPp"
      },
      "execution_count": null,
      "outputs": []
    },
    {
      "cell_type": "markdown",
      "source": [
        "Question 5:\n",
        "Which of the following formulas will keep the column fixed but allow the row\n",
        "to change when you copy it across cells?"
      ],
      "metadata": {
        "id": "nxDtAkK6GWXQ"
      }
    },
    {
      "cell_type": "code",
      "source": [
        "# Answer: c,$B2"
      ],
      "metadata": {
        "id": "9zaJoV0IGVS6"
      },
      "execution_count": null,
      "outputs": []
    },
    {
      "cell_type": "markdown",
      "source": [
        "Question 6:\n",
        "If you copy the formula =A1+B1 from cell C1 to cell C2, what will the formula\n",
        "in C2 be?"
      ],
      "metadata": {
        "id": "ELytCzcZGq_A"
      }
    },
    {
      "cell_type": "code",
      "source": [
        "# Answer: b,=A2+B2"
      ],
      "metadata": {
        "id": "_wXf4601GqEQ"
      },
      "execution_count": null,
      "outputs": []
    },
    {
      "cell_type": "markdown",
      "source": [
        "Question 7:\n",
        "Which of the following formulas uses an absolute reference to cell B3?"
      ],
      "metadata": {
        "id": "pOn136EKHCcg"
      }
    },
    {
      "cell_type": "code",
      "source": [
        "# Answer: b,=$B$3"
      ],
      "metadata": {
        "id": "2vlKvDivG_cY"
      },
      "execution_count": null,
      "outputs": []
    },
    {
      "cell_type": "markdown",
      "source": [
        "Question 8:\n",
        "In the formula =C5*$D$3, what type of reference is $D$3?"
      ],
      "metadata": {
        "id": "zYpyqUtjHWAv"
      }
    },
    {
      "cell_type": "code",
      "source": [
        "# Answer: b,Absolute Reference"
      ],
      "metadata": {
        "id": "UeC-rkQRHUEA"
      },
      "execution_count": null,
      "outputs": []
    },
    {
      "cell_type": "markdown",
      "source": [
        "Question 9:\n",
        "If you have the formula =B2*$C2 in cell D2, and you drag it across to D3, what\n",
        "will the new formula in D3 be?"
      ],
      "metadata": {
        "id": "hQ-rog0NHqwg"
      }
    },
    {
      "cell_type": "code",
      "source": [
        "# Answer: c,B3*$C3"
      ],
      "metadata": {
        "id": "owKt6veYHpFo"
      },
      "execution_count": null,
      "outputs": []
    },
    {
      "cell_type": "markdown",
      "source": [
        "Question 10:\n",
        "You are working with the formula =A$1*B2 in cell C2. When you copy this\n",
        "formula from C2 to C3, what will the new formula in C3 be?"
      ],
      "metadata": {
        "id": "V2E4lWXBIC9h"
      }
    },
    {
      "cell_type": "code",
      "source": [
        "# Answer: b,A$1*B2"
      ],
      "metadata": {
        "id": "7Mo7OMXMIBBg"
      },
      "execution_count": null,
      "outputs": []
    }
  ]
}